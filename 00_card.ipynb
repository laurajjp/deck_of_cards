{
 "cells": [
  {
   "cell_type": "code",
   "execution_count": null,
   "metadata": {},
   "outputs": [],
   "source": [
    "# default_exp card"
   ]
  },
  {
   "cell_type": "markdown",
   "metadata": {},
   "source": [
    "# Card\n",
    "\n",
    "This module is taken from the Card module from the ThinkPython2 repo"
   ]
  },
  {
   "cell_type": "code",
   "execution_count": null,
   "metadata": {},
   "outputs": [],
   "source": [
    "#hide\n",
    "from nbdev.showdoc import *\n",
    "from nbdev import *"
   ]
  },
  {
   "cell_type": "markdown",
   "metadata": {},
   "source": [
    "Card is a class that represents a single card in a deck of cards.\n",
    "\n",
    "For example:"
   ]
  },
  {
   "cell_type": "code",
   "execution_count": null,
   "metadata": {},
   "outputs": [],
   "source": [
    "#export\n",
    "from __future__ import print_function, division\n",
    "\n",
    "import random\n",
    "\n",
    "\n",
    "class Card:\n",
    "    \"\"\"Represents a standard playing card.\n",
    "    \n",
    "    Attributes:\n",
    "      suit: integer 0-3\n",
    "      rank: integer 1-13\n",
    "    \"\"\"\n",
    "\n",
    "    suit_names = [\"Clubs\", \"Diamonds\", \"Hearts\", \"Spades\"]\n",
    "    rank_names = [None, \"Ace\", \"2\", \"3\", \"4\", \"5\", \"6\", \"7\", \n",
    "              \"8\", \"9\", \"10\", \"Jack\", \"Queen\", \"King\"]\n",
    "\n",
    "    def __init__(self, suit=0, rank=2):\n",
    "        self.suit = suit\n",
    "        self.rank = rank\n",
    "\n",
    "    def __str__(self):\n",
    "        \"\"\"Returns a human-readable string representation.\"\"\"\n",
    "        return '%s of %s' % (Card.rank_names[self.rank],\n",
    "                             Card.suit_names[self.suit])\n",
    "\n",
    "    def __eq__(self, other):\n",
    "        \"\"\"Checks whether self and other have the same rank and suit.\n",
    "        returns: boolean\n",
    "        \"\"\"\n",
    "        return self.suit == other.suit and self.rank == other.rank\n",
    "\n",
    "    def __lt__(self, other):\n",
    "        \"\"\"Compares this card to other, first by suit, then rank.\n",
    "        returns: boolean\n",
    "        \"\"\"\n",
    "        t1 = self.suit, self.rank\n",
    "        t2 = other.suit, other.rank\n",
    "        return t1 < t2\n",
    "    \n",
    "    def __repr__(self): return self.__str__()"
   ]
  },
  {
   "cell_type": "code",
   "execution_count": null,
   "metadata": {},
   "outputs": [
    {
     "data": {
      "text/plain": [
       "3 of Diamonds"
      ]
     },
     "execution_count": null,
     "metadata": {},
     "output_type": "execute_result"
    }
   ],
   "source": [
    "Card(suit = 1, rank = 3)"
   ]
  },
  {
   "cell_type": "markdown",
   "metadata": {},
   "source": [
    "Create tests"
   ]
  },
  {
   "cell_type": "code",
   "execution_count": null,
   "metadata": {},
   "outputs": [],
   "source": [
    "c = Card(suit = 1, rank = 3)\n",
    "assert str(c) == '3 of Diamonds'\n",
    "\n",
    "c2 = Card(suit = 2, rank = 11)\n",
    "assert str(c2) == 'Jack of Hearts'"
   ]
  },
  {
   "cell_type": "markdown",
   "metadata": {},
   "source": [
    "You can do comparisions of cards too"
   ]
  },
  {
   "cell_type": "code",
   "execution_count": null,
   "metadata": {},
   "outputs": [],
   "source": [
    "assert c2 > c"
   ]
  },
  {
   "cell_type": "code",
   "execution_count": null,
   "metadata": {},
   "outputs": [
    {
     "data": {
      "text/markdown": [
       "<h4 id=\"Card.__lt__\" class=\"doc_header\"><code>Card.__lt__</code><a href=\"__main__.py#L34\" class=\"source_link\" style=\"float:right\">[source]</a></h4>\n",
       "\n",
       "> <code>Card.__lt__</code>(**`other`**)\n",
       "\n",
       "Compares this card to other, first by suit, then rank.\n",
       "returns: boolean"
      ],
      "text/plain": [
       "<IPython.core.display.Markdown object>"
      ]
     },
     "metadata": {},
     "output_type": "display_data"
    }
   ],
   "source": [
    "show_doc(Card.__lt__)"
   ]
  },
  {
   "cell_type": "code",
   "execution_count": null,
   "metadata": {},
   "outputs": [
    {
     "data": {
      "image/svg+xml": [
       "<svg height=\"100\"><circle cx=\"50\" cy=\"50\" r=\"40\"/></svg>"
      ],
      "text/plain": [
       "<IPython.core.display.SVG object>"
      ]
     },
     "metadata": {},
     "output_type": "display_data"
    }
   ],
   "source": [
    "from IPython.display import display,SVG\n",
    "display(SVG('<svg height=\"100\"><circle cx=\"50\" cy=\"50\" r=\"40\"/></svg>'))"
   ]
  },
  {
   "cell_type": "code",
   "execution_count": null,
   "metadata": {},
   "outputs": [],
   "source": []
  }
 ],
 "metadata": {
  "kernelspec": {
   "display_name": "Python 3 (ipykernel)",
   "language": "python",
   "name": "python3"
  }
 },
 "nbformat": 4,
 "nbformat_minor": 2
}
