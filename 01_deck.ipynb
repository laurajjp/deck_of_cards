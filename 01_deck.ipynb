{
 "cells": [
  {
   "cell_type": "code",
   "execution_count": null,
   "id": "8ee7dd8f",
   "metadata": {},
   "outputs": [],
   "source": [
    "#default_exp deck"
   ]
  },
  {
   "cell_type": "markdown",
   "id": "efa748aa",
   "metadata": {},
   "source": [
    "# Deck\n",
    "\n",
    "Playing Cards\n",
    "\n",
    "This module is taken from the Card module from the ThinkPython2 repo"
   ]
  },
  {
   "cell_type": "code",
   "execution_count": null,
   "id": "bf4a58b2",
   "metadata": {},
   "outputs": [],
   "source": [
    "#hide\n",
    "from nbdev import *"
   ]
  },
  {
   "cell_type": "code",
   "execution_count": null,
   "id": "27b51e6e",
   "metadata": {},
   "outputs": [],
   "source": [
    "#export\n",
    "from deck_of_cardsv1.card import Card"
   ]
  },
  {
   "cell_type": "code",
   "execution_count": null,
   "id": "29d3b4a3",
   "metadata": {},
   "outputs": [],
   "source": [
    "#export\n",
    "class Deck:\n",
    "    \"\"\"Represents a deck of cards.\n",
    "    Attributes:\n",
    "      cards: list of Card objects.\n",
    "    \"\"\"\n",
    "    \n",
    "    def __init__(self):\n",
    "        \"\"\"Initializes the Deck with 52 cards.\n",
    "        \"\"\"\n",
    "        self.cards = []\n",
    "        for suit in range(4):\n",
    "            for rank in range(1, 14):\n",
    "                card = Card(suit, rank)\n",
    "                self.cards.append(card)\n",
    "\n",
    "    def __str__(self):\n",
    "        \"\"\"Returns a string representation of the deck.\n",
    "        \"\"\"\n",
    "        res = []\n",
    "        for card in self.cards:\n",
    "            res.append(str(card))\n",
    "        return '\\n'.join(res)\n",
    "\n",
    "    def add_card(self, card):\n",
    "        \"\"\"Adds a card to the deck.\n",
    "        card: Card\n",
    "        \"\"\"\n",
    "        self.cards.append(card)\n",
    "\n",
    "    def remove_card(self, card):\n",
    "        \"\"\"Removes a card from the deck or raises exception if it is not there.\n",
    "        \n",
    "        card: Card\n",
    "        \"\"\"\n",
    "        self.cards.remove(card)\n",
    "\n",
    "    def pop_card(self, i=-1):\n",
    "        \"\"\"Removes and returns a card from the deck.\n",
    "        i: index of the card to pop; by default, pops the last card.\n",
    "        \"\"\"\n",
    "        return self.cards.pop(i)\n",
    "\n",
    "    def shuffle(self):\n",
    "        \"\"\"Shuffles the cards in this deck.\"\"\"\n",
    "        random.shuffle(self.cards)\n",
    "\n",
    "    def sort(self):\n",
    "        \"\"\"Sorts the cards in ascending order.\"\"\"\n",
    "        self.cards.sort()\n",
    "\n",
    "    def move_cards(self, hand, num):\n",
    "        \"\"\"Moves the given number of cards from the deck into the Hand.\n",
    "        hand: destination Hand object\n",
    "        num: integer number of cards to move\n",
    "        \"\"\"\n",
    "        for i in range(num):\n",
    "            hand.add_card(self.pop_card())"
   ]
  },
  {
   "cell_type": "markdown",
   "id": "8393dfe6",
   "metadata": {},
   "source": [
    "A Deck of cards is a collection of `Card` objects"
   ]
  },
  {
   "cell_type": "code",
   "execution_count": null,
   "id": "fa66cc2f",
   "metadata": {},
   "outputs": [
    {
     "data": {
      "text/plain": [
       "King of Spades"
      ]
     },
     "execution_count": null,
     "metadata": {},
     "output_type": "execute_result"
    }
   ],
   "source": [
    "deck = Deck()\n",
    "deck.pop_card()"
   ]
  },
  {
   "cell_type": "code",
   "execution_count": null,
   "id": "560c31c3",
   "metadata": {},
   "outputs": [],
   "source": [
    "assert isinstance(deck.pop_card(), Card)"
   ]
  },
  {
   "cell_type": "code",
   "execution_count": null,
   "id": "7ea24c4d",
   "metadata": {},
   "outputs": [
    {
     "data": {
      "text/markdown": [
       "<h4 id=\"Deck.remove_card\" class=\"doc_header\"><code>Deck.remove_card</code><a href=\"__main__.py#L31\" class=\"source_link\" style=\"float:right\">[source]</a></h4>\n",
       "\n",
       "> <code>Deck.remove_card</code>(**`card`**)\n",
       "\n",
       "Removes a card from the deck or raises exception if it is not there.\n",
       "\n",
       "card: Card"
      ],
      "text/plain": [
       "<IPython.core.display.Markdown object>"
      ]
     },
     "metadata": {},
     "output_type": "display_data"
    }
   ],
   "source": [
    "show_doc(Deck.remove_card)"
   ]
  },
  {
   "cell_type": "markdown",
   "id": "6d92435a",
   "metadata": {},
   "source": [
    "If we remove a card from the Deck we can verify that it no longer exists."
   ]
  },
  {
   "cell_type": "code",
   "execution_count": null,
   "id": "01256b65",
   "metadata": {},
   "outputs": [
    {
     "data": {
      "text/plain": [
       "True"
      ]
     },
     "execution_count": null,
     "metadata": {},
     "output_type": "execute_result"
    }
   ],
   "source": [
    "deck = Deck()\n",
    "c = Card(2,3)\n",
    "deck.remove_card(c)\n",
    "\n",
    "c not in deck.cards"
   ]
  },
  {
   "cell_type": "code",
   "execution_count": null,
   "id": "9a050a3a",
   "metadata": {},
   "outputs": [],
   "source": [
    "assert c not in deck.cards"
   ]
  },
  {
   "cell_type": "markdown",
   "id": "a06a2693",
   "metadata": {},
   "source": [
    "However, another card that we haven't removed, such as the 10 of hearts will still be in the Deck of cards because we haven't removed it."
   ]
  },
  {
   "cell_type": "code",
   "execution_count": null,
   "id": "ceac1132",
   "metadata": {},
   "outputs": [
    {
     "data": {
      "text/plain": [
       "False"
      ]
     },
     "execution_count": null,
     "metadata": {},
     "output_type": "execute_result"
    }
   ],
   "source": [
    "c2 = Card(2,10)\n",
    "\n",
    "c2 not in deck.cards"
   ]
  },
  {
   "cell_type": "code",
   "execution_count": null,
   "id": "3758e4c0",
   "metadata": {},
   "outputs": [],
   "source": [
    "assert c2 in deck.cards"
   ]
  },
  {
   "cell_type": "code",
   "execution_count": null,
   "id": "154a578d",
   "metadata": {},
   "outputs": [],
   "source": []
  }
 ],
 "metadata": {
  "kernelspec": {
   "display_name": "Python 3 (ipykernel)",
   "language": "python",
   "name": "python3"
  }
 },
 "nbformat": 4,
 "nbformat_minor": 5
}
